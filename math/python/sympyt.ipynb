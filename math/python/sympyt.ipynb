{
 "cells": [
  {
   "cell_type": "code",
   "execution_count": 1,
   "metadata": {},
   "outputs": [
    {
     "data": {
      "text/latex": [
       "$\\displaystyle C \\frac{d}{d t} u_{c}{\\left(t \\right)}$"
      ],
      "text/plain": [
       "C*Derivative(u_c(t), t)"
      ]
     },
     "execution_count": 1,
     "metadata": {},
     "output_type": "execute_result"
    }
   ],
   "source": [
    "import sympy as sp\n",
    "\n",
    "# 定义符号变量\n",
    "t = sp.symbols('t')\n",
    "C = sp.symbols('C', constant=True)\n",
    "u_c = sp.Function('u_c')(t)\n",
    "i_c = C * sp.diff(u_c, t)\n",
    "i_c"
   ]
  },
  {
   "cell_type": "code",
   "execution_count": 2,
   "metadata": {},
   "outputs": [
    {
     "data": {
      "text/latex": [
       "$\\displaystyle u_{c}{\\left(t \\right)}$"
      ],
      "text/plain": [
       "u_c(t)"
      ]
     },
     "execution_count": 2,
     "metadata": {},
     "output_type": "execute_result"
    }
   ],
   "source": [
    "# 计算 i_c 的不定积分\n",
    "integral_i_c = 1/C * sp.integrate(i_c, t)\n",
    "integral_i_c"
   ]
  },
  {
   "cell_type": "code",
   "execution_count": 22,
   "metadata": {},
   "outputs": [
    {
     "data": {
      "text/latex": [
       "$\\displaystyle A$"
      ],
      "text/plain": [
       "A"
      ]
     },
     "execution_count": 22,
     "metadata": {},
     "output_type": "execute_result"
    }
   ],
   "source": [
    "A = sp.symbols('A')\n",
    "u = sp.symbols(r'\\overline{u}')\n",
    "T = sp.symbols('T', constant=True)\n",
    "f = 1 / T * sp.integrate(A, (t, 0, T))\n",
    "f"
   ]
  },
  {
   "cell_type": "code",
   "execution_count": 23,
   "metadata": {},
   "outputs": [
    {
     "data": {
      "text/latex": [
       "$\\displaystyle \\left(\\frac{e^{x}}{y!}\\right)^{z}$"
      ],
      "text/plain": [
       "(exp(x)/factorial(y))**z"
      ]
     },
     "execution_count": 23,
     "metadata": {},
     "output_type": "execute_result"
    }
   ],
   "source": [
    "from sympy import  *\n",
    "x, y, z = symbols('x y z')\n",
    "(exp(x)/factorial(y))**z"
   ]
  },
  {
   "cell_type": "code",
   "execution_count": 25,
   "metadata": {},
   "outputs": [
    {
     "data": {
      "text/latex": [
       "$\\displaystyle x + 1 + \\frac{1}{x + 1} + \\frac{1}{x - 1}$"
      ],
      "text/plain": [
       "x + 1 + 1/(x + 1) + 1/(x - 1)"
      ]
     },
     "execution_count": 25,
     "metadata": {},
     "output_type": "execute_result"
    }
   ],
   "source": [
    "from sympy import *\n",
    "string = '1/(x-1) + 1/(x+1) + x + 1'\n",
    "expr = sympify(string)\n",
    "expr"
   ]
  },
  {
   "cell_type": "code",
   "execution_count": 28,
   "metadata": {},
   "outputs": [],
   "source": [
    "def convert_input(string):\n",
    "    expr = sympify(string)\n",
    "    sym, = expr.free_symbols\n",
    "    x = Symbol(sym.name, real=True)\n",
    "    expr = expr.subs(sym, x)\n",
    "    frac = cancel(together(expr))\n",
    "    return frac, x"
   ]
  },
  {
   "cell_type": "code",
   "execution_count": 29,
   "metadata": {},
   "outputs": [
    {
     "data": {
      "text/latex": [
       "$\\displaystyle \\frac{x^{3} + x^{2} + x - 1}{x^{2} - 1}$"
      ],
      "text/plain": [
       "(x**3 + x**2 + x - 1)/(x**2 - 1)"
      ]
     },
     "execution_count": 29,
     "metadata": {},
     "output_type": "execute_result"
    }
   ],
   "source": [
    "frac, x = convert_input('1/(x-1) + 1/(x+1) + x + 1')\n",
    "frac"
   ]
  },
  {
   "cell_type": "code",
   "execution_count": 30,
   "metadata": {},
   "outputs": [
    {
     "name": "stdout",
     "output_type": "stream",
     "text": [
      "{x: 4/7, y: 8/7, z: 9/7}\n"
     ]
    }
   ],
   "source": [
    "from sympy import symbols, Eq, solve\n",
    "\n",
    "# 定义符号\n",
    "x, y, z = symbols('x y z')\n",
    "\n",
    "# 定义方程\n",
    "eq1 = Eq(2*x + y - z, 1)\n",
    "eq2 = Eq(x - y + 2*z, 2)\n",
    "eq3 = Eq(x + y + z, 3)\n",
    "\n",
    "# 求解方程组\n",
    "solution = solve((eq1, eq2, eq3), (x, y, z))\n",
    "\n",
    "# 打印结果\n",
    "print(solution)"
   ]
  },
  {
   "cell_type": "code",
   "execution_count": 36,
   "metadata": {},
   "outputs": [
    {
     "data": {
      "text/latex": [
       "$\\displaystyle x^{n}$"
      ],
      "text/plain": [
       "x**n"
      ]
     },
     "execution_count": 36,
     "metadata": {},
     "output_type": "execute_result"
    }
   ],
   "source": [
    "import sympy as sp\n",
    "\n",
    "# 定义符号变量\n",
    "x = sp.symbols('x')\n",
    "n = sp.symbols('n', integer=True)\n",
    "\n",
    "# 定义幂函数，例如 f(x) = x^n\n",
    "f = x**n\n",
    "f"
   ]
  },
  {
   "cell_type": "code",
   "execution_count": 35,
   "metadata": {},
   "outputs": [
    {
     "data": {
      "text/latex": [
       "$\\displaystyle \\frac{n x^{n}}{x}$"
      ],
      "text/plain": [
       "n*x**n/x"
      ]
     },
     "execution_count": 35,
     "metadata": {},
     "output_type": "execute_result"
    }
   ],
   "source": [
    "# 求导数\n",
    "f_prime = sp.diff(f, x)\n",
    "f_prime"
   ]
  },
  {
   "cell_type": "code",
   "execution_count": 37,
   "metadata": {},
   "outputs": [
    {
     "data": {
      "text/latex": [
       "$\\displaystyle \\cos{\\left(x \\right)}$"
      ],
      "text/plain": [
       "cos(x)"
      ]
     },
     "execution_count": 37,
     "metadata": {},
     "output_type": "execute_result"
    }
   ],
   "source": [
    "x = sp.symbols('x')\n",
    "f = sp.sin(x)\n",
    "f_prime = sp.diff(f, x)\n",
    "f_prime"
   ]
  },
  {
   "cell_type": "code",
   "execution_count": 39,
   "metadata": {},
   "outputs": [
    {
     "data": {
      "text/latex": [
       "$\\displaystyle a^{x} \\log{\\left(a \\right)}$"
      ],
      "text/plain": [
       "a**x*log(a)"
      ]
     },
     "execution_count": 39,
     "metadata": {},
     "output_type": "execute_result"
    }
   ],
   "source": [
    "x = sp.symbols('x')\n",
    "a = sp.symbols('a', constant=True)\n",
    "f = a**x\n",
    "f_prime = sp.diff(f, x)\n",
    "f_prime"
   ]
  },
  {
   "cell_type": "code",
   "execution_count": 40,
   "metadata": {},
   "outputs": [
    {
     "data": {
      "text/latex": [
       "$\\displaystyle \\frac{1}{x \\log{\\left(a \\right)}}$"
      ],
      "text/plain": [
       "1/(x*log(a))"
      ]
     },
     "execution_count": 40,
     "metadata": {},
     "output_type": "execute_result"
    }
   ],
   "source": [
    "x = sp.symbols('x')\n",
    "a = sp.symbols('a', constant=True)\n",
    "f = sp.log(x, a)\n",
    "f_prime = sp.diff(f, x)\n",
    "f_prime"
   ]
  },
  {
   "cell_type": "code",
   "execution_count": 42,
   "metadata": {},
   "outputs": [
    {
     "data": {
      "text/latex": [
       "$\\displaystyle \\frac{1}{x}$"
      ],
      "text/plain": [
       "1/x"
      ]
     },
     "execution_count": 42,
     "metadata": {},
     "output_type": "execute_result"
    }
   ],
   "source": [
    "x = sp.symbols('x')\n",
    "f = sp.log(x)\n",
    "f_prime = sp.diff(f, x)\n",
    "f_prime"
   ]
  },
  {
   "cell_type": "code",
   "execution_count": 43,
   "metadata": {},
   "outputs": [
    {
     "data": {
      "text/latex": [
       "$\\displaystyle 6 x^{2} - 10 x + 3$"
      ],
      "text/plain": [
       "6*x**2 - 10*x + 3"
      ]
     },
     "execution_count": 43,
     "metadata": {},
     "output_type": "execute_result"
    }
   ],
   "source": [
    "x = sp.symbols('x')\n",
    "f = 2*x**3 - 5*x**2 + 3*x - 7\n",
    "f_prime = sp.diff(f, x)\n",
    "f_prime"
   ]
  },
  {
   "cell_type": "code",
   "execution_count": 44,
   "metadata": {},
   "outputs": [
    {
     "data": {
      "text/latex": [
       "$\\displaystyle 3 x^{2} - 4 \\sin{\\left(x \\right)}$"
      ],
      "text/plain": [
       "3*x**2 - 4*sin(x)"
      ]
     },
     "execution_count": 44,
     "metadata": {},
     "output_type": "execute_result"
    }
   ],
   "source": [
    "x = sp.symbols('x')\n",
    "f = x**3 + 4*sp.cos(x) - sin(sp.pi / 2)\n",
    "f_prime = sp.diff(f, x)\n",
    "f_prime"
   ]
  },
  {
   "cell_type": "code",
   "execution_count": 45,
   "metadata": {},
   "outputs": [
    {
     "data": {
      "text/latex": [
       "$\\displaystyle -4 + \\frac{3 \\pi^{2}}{4}$"
      ],
      "text/plain": [
       "-4 + 3*pi**2/4"
      ]
     },
     "execution_count": 45,
     "metadata": {},
     "output_type": "execute_result"
    }
   ],
   "source": [
    "out = f_prime.subs(x, sp.pi / 2)\n",
    "out"
   ]
  },
  {
   "cell_type": "code",
   "execution_count": 46,
   "metadata": {},
   "outputs": [
    {
     "data": {
      "text/latex": [
       "$\\displaystyle \\left(- \\sin{\\left(x \\right)} + \\cos{\\left(x \\right)}\\right) e^{x} + \\left(\\sin{\\left(x \\right)} + \\cos{\\left(x \\right)}\\right) e^{x}$"
      ],
      "text/plain": [
       "(-sin(x) + cos(x))*exp(x) + (sin(x) + cos(x))*exp(x)"
      ]
     },
     "execution_count": 46,
     "metadata": {},
     "output_type": "execute_result"
    }
   ],
   "source": [
    "x = sp.symbols('x')\n",
    "y = sp.exp(x)*(sp.sin(x) + sp.cos(x))\n",
    "y_prime = sp.diff(y, x)\n",
    "y_prime"
   ]
  },
  {
   "cell_type": "code",
   "execution_count": 48,
   "metadata": {},
   "outputs": [
    {
     "data": {
      "text/latex": [
       "$\\displaystyle \\frac{1}{\\sqrt{1 - x^{2}}}$"
      ],
      "text/plain": [
       "1/sqrt(1 - x**2)"
      ]
     },
     "execution_count": 48,
     "metadata": {},
     "output_type": "execute_result"
    }
   ],
   "source": [
    "x = sp.symbols('x')\n",
    "y = sp.asin(x)\n",
    "y_prime = sp.diff(y, x)\n",
    "y_prime"
   ]
  },
  {
   "cell_type": "code",
   "execution_count": 49,
   "metadata": {},
   "outputs": [
    {
     "data": {
      "text/latex": [
       "$\\displaystyle - \\frac{1}{\\sqrt{1 - x^{2}}}$"
      ],
      "text/plain": [
       "-1/sqrt(1 - x**2)"
      ]
     },
     "execution_count": 49,
     "metadata": {},
     "output_type": "execute_result"
    }
   ],
   "source": [
    "x = sp.symbols('x')\n",
    "y = sp.acos(x)\n",
    "y_prime = sp.diff(y, x)\n",
    "y_prime"
   ]
  },
  {
   "cell_type": "code",
   "execution_count": 50,
   "metadata": {},
   "outputs": [
    {
     "data": {
      "text/latex": [
       "$\\displaystyle \\frac{1}{x^{2} + 1}$"
      ],
      "text/plain": [
       "1/(x**2 + 1)"
      ]
     },
     "execution_count": 50,
     "metadata": {},
     "output_type": "execute_result"
    }
   ],
   "source": [
    "x = sp.symbols('x')\n",
    "y = sp.atan(x)\n",
    "y_prime = sp.diff(y, x)\n",
    "y_prime"
   ]
  },
  {
   "cell_type": "code",
   "execution_count": 51,
   "metadata": {},
   "outputs": [
    {
     "data": {
      "text/latex": [
       "$\\displaystyle - \\frac{1}{x^{2} + 1}$"
      ],
      "text/plain": [
       "-1/(x**2 + 1)"
      ]
     },
     "execution_count": 51,
     "metadata": {},
     "output_type": "execute_result"
    }
   ],
   "source": [
    "x = sp.symbols('x')\n",
    "y = sp.acot(x)\n",
    "y_prime = sp.diff(y, x)\n",
    "y_prime"
   ]
  },
  {
   "cell_type": "code",
   "execution_count": 53,
   "metadata": {},
   "outputs": [
    {
     "data": {
      "text/latex": [
       "$\\displaystyle \\frac{1}{x \\log{\\left(a \\right)}}$"
      ],
      "text/plain": [
       "1/(x*log(a))"
      ]
     },
     "execution_count": 53,
     "metadata": {},
     "output_type": "execute_result"
    }
   ],
   "source": [
    "x = sp.symbols('x')\n",
    "a = sp.symbols('a', constant=True)\n",
    "y = sp.log(x, a)\n",
    "y_prime = sp.diff(y, x)\n",
    "y_prime"
   ]
  },
  {
   "cell_type": "code",
   "execution_count": 54,
   "metadata": {},
   "outputs": [
    {
     "data": {
      "text/latex": [
       "$\\displaystyle 3 x^{2} e^{x^{3}}$"
      ],
      "text/plain": [
       "3*x**2*exp(x**3)"
      ]
     },
     "execution_count": 54,
     "metadata": {},
     "output_type": "execute_result"
    }
   ],
   "source": [
    "x = sp.symbols('x')\n",
    "y = sp.exp(x**3)\n",
    "y_prime = sp.diff(y, x)\n",
    "y_prime"
   ]
  },
  {
   "cell_type": "code",
   "execution_count": 55,
   "metadata": {},
   "outputs": [
    {
     "data": {
      "text/latex": [
       "$\\displaystyle \\left(- \\frac{4 x^{2}}{\\left(x^{2} + 1\\right)^{2}} + \\frac{2}{x^{2} + 1}\\right) \\cos{\\left(\\frac{2 x}{x^{2} + 1} \\right)}$"
      ],
      "text/plain": [
       "(-4*x**2/(x**2 + 1)**2 + 2/(x**2 + 1))*cos(2*x/(x**2 + 1))"
      ]
     },
     "execution_count": 55,
     "metadata": {},
     "output_type": "execute_result"
    }
   ],
   "source": [
    "x = sp.symbols('x')\n",
    "y = sp.sin(2*x/(1+x**2))\n",
    "y_prime = sp.diff(y, x)\n",
    "y_prime"
   ]
  },
  {
   "cell_type": "code",
   "execution_count": 57,
   "metadata": {},
   "outputs": [
    {
     "data": {
      "text/latex": [
       "$\\displaystyle \\frac{\\cos{\\left(x \\right)}}{\\sin{\\left(x \\right)}}$"
      ],
      "text/plain": [
       "cos(x)/sin(x)"
      ]
     },
     "execution_count": 57,
     "metadata": {},
     "output_type": "execute_result"
    }
   ],
   "source": [
    "x = sp.symbols('x')\n",
    "y = sp.log(sp.sin(x))\n",
    "y_prime = sp.diff(y, x)\n",
    "y_prime"
   ]
  },
  {
   "cell_type": "code",
   "execution_count": 61,
   "metadata": {},
   "outputs": [
    {
     "data": {
      "text/latex": [
       "$\\displaystyle - \\frac{4 x}{3 \\left(1 - 2 x^{2}\\right)^{\\frac{2}{3}}}$"
      ],
      "text/plain": [
       "-4*x/(3*(1 - 2*x**2)**(2/3))"
      ]
     },
     "execution_count": 61,
     "metadata": {},
     "output_type": "execute_result"
    }
   ],
   "source": [
    "x = sp.symbols('x')\n",
    "y = (1-2*(x**2))**(1/3)\n",
    "y_prime = sp.diff(y, x)\n",
    "y_prime = sp.nsimplify(y_prime)\n",
    "y_prime"
   ]
  },
  {
   "cell_type": "code",
   "execution_count": 63,
   "metadata": {},
   "outputs": [
    {
     "data": {
      "text/latex": [
       "$\\displaystyle - \\frac{e^{x} \\sin{\\left(e^{x} \\right)}}{\\cos{\\left(e^{x} \\right)}}$"
      ],
      "text/plain": [
       "-exp(x)*sin(exp(x))/cos(exp(x))"
      ]
     },
     "execution_count": 63,
     "metadata": {},
     "output_type": "execute_result"
    }
   ],
   "source": [
    "x = sp.symbols('x')\n",
    "y = sp.log(sp.cos(sp.exp(x)))\n",
    "y_prime = sp.diff(y, x)\n",
    "y_prime"
   ]
  },
  {
   "cell_type": "code",
   "execution_count": 64,
   "metadata": {},
   "outputs": [
    {
     "data": {
      "text/latex": [
       "$\\displaystyle - \\frac{e^{\\sin{\\left(\\frac{1}{x} \\right)}} \\cos{\\left(\\frac{1}{x} \\right)}}{x^{2}}$"
      ],
      "text/plain": [
       "-exp(sin(1/x))*cos(1/x)/x**2"
      ]
     },
     "execution_count": 64,
     "metadata": {},
     "output_type": "execute_result"
    }
   ],
   "source": [
    "x = sp.symbols('x')\n",
    "y = sp.exp(sp.sin(1/x))\n",
    "y_prime = sp.diff(y, x)\n",
    "y_prime"
   ]
  },
  {
   "cell_type": "markdown",
   "metadata": {},
   "source": [
    "例 15 设 $y=\\sin nx\\cdot\\sin^nx$ ($n$为常数), 求$y'$\n",
    "\n",
    "解: 首先引用积分的求导法则得:\n",
    "\n",
    "$\\begin{align}y=(\\sin nx)'\\sin^nx+\\sin nx \\cdot (\\sin^nx)' \\nonumber\\end{align}$\n",
    "\n",
    "在计算$(\\sin nx)'$与$(\\sin^nx)'$时, 都要应用复合函数求导法则, 由此得:\n",
    "\n",
    "$\\begin{align}\n",
    "y'&=n\\cos nx\\cdot\\sin^x+\\sin nx\\cdot nsin^{n-1}x\\cdot\\cos x \\nonumber \\\\\n",
    "&=n\\sin^{n-1}x(\\cos nx\\cdot\\sin x+\\sin nx\\cdot\\cos x) \\nonumber \\\\\n",
    "&=n\\sin^{n-1}x\\cdot\\sin(n+1)x \\nonumber\n",
    "\\end{align}$\n",
    "\n",
    "代码:"
   ]
  },
  {
   "cell_type": "code",
   "execution_count": 76,
   "metadata": {},
   "outputs": [
    {
     "data": {
      "text/latex": [
       "$\\displaystyle \\sin^{n}{\\left(x \\right)} \\sin{\\left(n x \\right)}$"
      ],
      "text/plain": [
       "sin(x)**n*sin(n*x)"
      ]
     },
     "execution_count": 76,
     "metadata": {},
     "output_type": "execute_result"
    }
   ],
   "source": [
    "x = sp.symbols('x')\n",
    "n = sp.symbols('n', costant=True)\n",
    "y = sp.sin(n*x)*sp.sin(x)**n\n",
    "y"
   ]
  },
  {
   "cell_type": "code",
   "execution_count": null,
   "metadata": {},
   "outputs": [],
   "source": []
  },
  {
   "cell_type": "code",
   "execution_count": 77,
   "metadata": {},
   "outputs": [
    {
     "data": {
      "text/latex": [
       "$\\displaystyle n \\sin^{n - 1}{\\left(x \\right)} \\sin{\\left(n x + x \\right)}$"
      ],
      "text/plain": [
       "n*sin(x)**(n - 1)*sin(n*x + x)"
      ]
     },
     "execution_count": 77,
     "metadata": {},
     "output_type": "execute_result"
    }
   ],
   "source": [
    "y_prime = sp.diff(y, x)\n",
    "y_prime = sp.simplify(y_prime)\n",
    "y_prime"
   ]
  },
  {
   "cell_type": "code",
   "execution_count": 74,
   "metadata": {},
   "outputs": [
    {
     "data": {
      "text/latex": [
       "$\\displaystyle n \\sin^{n - 1}{\\left(x \\right)} \\sin{\\left(n x + x \\right)}$"
      ],
      "text/plain": [
       "n*sin(x)**(n - 1)*sin(n*x + x)"
      ]
     },
     "execution_count": 74,
     "metadata": {},
     "output_type": "execute_result"
    }
   ],
   "source": [
    "x = sp.symbols('x')\n",
    "n = sp.symbols('n', costant=True)\n",
    "y = n*sp.sin(x)**(n-1)*sp.sin(n*x+x)\n",
    "y"
   ]
  },
  {
   "cell_type": "code",
   "execution_count": 75,
   "metadata": {},
   "outputs": [
    {
     "data": {
      "text/latex": [
       "$\\displaystyle n \\int \\sin^{n - 1}{\\left(x \\right)} \\sin{\\left(n x + x \\right)}\\, dx$"
      ],
      "text/plain": [
       "n*Integral(sin(x)**(n - 1)*sin(n*x + x), x)"
      ]
     },
     "execution_count": 75,
     "metadata": {},
     "output_type": "execute_result"
    }
   ],
   "source": [
    "y_integral = sp.integrate(y, x)\n",
    "y_integral = sp.simplify(y_integral)\n",
    "y_integral"
   ]
  }
 ],
 "metadata": {
  "kernelspec": {
   "display_name": "Python 3",
   "language": "python",
   "name": "python3"
  },
  "language_info": {
   "codemirror_mode": {
    "name": "ipython",
    "version": 3
   },
   "file_extension": ".py",
   "mimetype": "text/x-python",
   "name": "python",
   "nbconvert_exporter": "python",
   "pygments_lexer": "ipython3",
   "version": "3.12.1"
  }
 },
 "nbformat": 4,
 "nbformat_minor": 2
}
